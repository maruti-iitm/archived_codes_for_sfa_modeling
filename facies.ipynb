{
 "cells": [
  {
   "cell_type": "markdown",
   "metadata": {},
   "source": [
    "# Workflow of facies-based data assimilation"
   ]
  },
  {
   "cell_type": "markdown",
   "metadata": {
    "toc": "true"
   },
   "source": [
    "## Table of Contents\n",
    "<div class=\"toc\" style=\"margin-top: 1em;\">\n",
    "   <ul class=\"toc-item\" id=\"toc-level0\">\n",
    "      <li><span><a href='#preprocessing' data-toc-modified-id=\"preprocessing\"><span class=\"toc-item-num\">1&nbsp;&nbsp;</span>preprocessing</a></span></li>\n",
    "      <li><span><a href='#data assimilation' data-toc-modified-id=\"data assimilation\"><span class=\"toc-item-num\">2&nbsp;&nbsp;</span>data assimilation</a></span></li>\n",
    "      <li><span><a href='#postprocessing' data-toc-modified-id=\"postprocessing\"><span class=\"toc-item-num\">3&nbsp;&nbsp;</span>postprocessing</a></span></li>\n",
    "\n",
    "   </ul>\n",
    "</div>\n",
    "\n",
    "\n"
   ]
  },
  {
   "cell_type": "markdown",
   "metadata": {},
   "source": [
    "# Preprocessing\n",
    "<a id='preprocessing'></a>"
   ]
  },
  {
   "cell_type": "markdown",
   "metadata": {},
   "source": [
    "[1. convert the lithology data to hydrofacies data](preprocessing_1_litho_type.ipynb)"
   ]
  },
  {
   "cell_type": "markdown",
   "metadata": {},
   "source": [
    "[2. locate the well screen interval](preprocessing_2_well_screen.ipynb) \n"
   ]
  },
  {
   "cell_type": "markdown",
   "metadata": {},
   "source": [
    " [3. process the tracer observation data in the field](preprocessing_3_tracer_data.ipynb)"
   ]
  },
  {
   "cell_type": "markdown",
   "metadata": {},
   "source": [
    "# Data assimilation\n",
    "<a id='data assimilation'></a>"
   ]
  },
  {
   "cell_type": "markdown",
   "metadata": {},
   "source": [
    "1. choose interation number"
   ]
  },
  {
   "cell_type": "code",
   "execution_count": null,
   "metadata": {},
   "outputs": [],
   "source": [
    "iteration = 1"
   ]
  },
  {
   "cell_type": "markdown",
   "metadata": {},
   "source": [
    "#### 2. submit pflotran simulations to nersc"
   ]
  },
  {
   "cell_type": "markdown",
   "metadata": {},
   "source": [
    "[3. collect pflotran simulation results from ensembles](da_1_assemble_simulation.ipynb)"
   ]
  },
  {
   "cell_type": "markdown",
   "metadata": {},
   "source": [
    "[4. combine ensemble results into one array](da_2_combine_simulation.ipynb)"
   ]
  },
  {
   "cell_type": "markdown",
   "metadata": {},
   "source": [
    "[5. update faceis field using data assimialtion](da_6_update.ipynb)"
   ]
  },
  {
   "cell_type": "markdown",
   "metadata": {},
   "source": [
    "[6. select conditioning points for T-PROGS](da_2_combine_simulation.ipynb) "
   ]
  },
  {
   "cell_type": "markdown",
   "metadata": {},
   "source": [
    "#### 7. run T-PROGS to generate new facies field"
   ]
  },
  {
   "cell_type": "markdown",
   "metadata": {},
   "source": [
    "#### 8. convert T-PROGS indicators to [pflotran material file](da_4_tprogs_to_material.ipynb) and [DA state vector](da_5_tprogs_to_state.ipynb) "
   ]
  },
  {
   "cell_type": "markdown",
   "metadata": {
    "ExecuteTime": {
     "end_time": "2017-12-20T16:17:54.186276Z",
     "start_time": "2017-12-20T16:17:54.078653Z"
    }
   },
   "source": [
    "# Postprocessing\n",
    "<a id='postprocessing'></a>"
   ]
  },
  {
   "cell_type": "markdown",
   "metadata": {},
   "source": [
    "[1. figures of posterior/prior permeablities](postprocessing_1_plot_perm.ipynb)"
   ]
  },
  {
   "cell_type": "markdown",
   "metadata": {},
   "source": [
    "[2. figures of breakthough curves](postprocessing_2_plot_bc.ipynb)"
   ]
  },
  {
   "cell_type": "markdown",
   "metadata": {},
   "source": [
    "[3. figures of transiation probablities](postprocessing_3_plot_tp.ipynb)"
   ]
  },
  {
   "cell_type": "code",
   "execution_count": null,
   "metadata": {},
   "outputs": [],
   "source": []
  }
 ],
 "metadata": {
  "anaconda-cloud": {},
  "hide_input": false,
  "kernelspec": {
   "display_name": "Python 3",
   "language": "python",
   "name": "python3"
  },
  "language_info": {
   "codemirror_mode": {
    "name": "ipython",
    "version": 3
   },
   "file_extension": ".py",
   "mimetype": "text/x-python",
   "name": "python",
   "nbconvert_exporter": "python",
   "pygments_lexer": "ipython3",
   "version": "3.6.2"
  },
  "nav_menu": {},
  "toc": {
   "nav_menu": {
    "height": "102px",
    "width": "252px"
   },
   "number_sections": true,
   "sideBar": true,
   "skip_h1_title": false,
   "toc_cell": true,
   "toc_position": {},
   "toc_section_display": "block",
   "toc_window_display": false
  },
  "toc_position": {
   "height": "982px",
   "left": "0px",
   "right": "auto",
   "top": "106px",
   "width": "212px"
  }
 },
 "nbformat": 4,
 "nbformat_minor": 1
}
