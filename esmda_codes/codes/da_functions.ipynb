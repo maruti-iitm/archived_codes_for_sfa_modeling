{
 "cells": [
  {
   "cell_type": "markdown",
   "metadata": {},
   "source": [
    "library(\"parallel\")\n",
    "\n",
    "\n",
    "cov.serial <- function(m1,m2)\n",
    "{\n",
    "    m1 = t(apply(m1,2,function(x) x-mean(x)))\n",
    "    m2 = apply(m2,2,function(x) x-mean(x))\n",
    "    return((m1 %*% m2)/nrow(simu.ensemble))\n",
    "}\n",
    "\n",
    "\n",
    "\n",
    "cov.parallel.1 <- function(m1,m2)\n",
    "{\n",
    "    t = proc.time()"
   ]
  },
  {
   "cell_type": "code",
   "execution_count": null,
   "metadata": {},
   "outputs": [],
   "source": [
    "m1 = t(apply(m1,2,function(x) x-mean(x)))\n",
    "m2 = apply(m2,2,function(x) x-mean(x))\n",
    "\n",
    "nstate = nrow(m1)\n",
    "nreaz = ncol(m1)\n",
    "\n",
    "ncore = detectCores()-1\n",
    "\n",
    "cl = makeCluster(ncore,type=\"FORK\")\n",
    "\n",
    "print(ncore)\n",
    "\n",
    "print(proc.time() - t)\n",
    "\n",
    "idx = splitIndices(nstate,ncore)\n",
    "\n",
    "m1.list = lapply(idx,function(ii) m1[ii,,drop=FALSE])\n",
    "\n",
    "print(proc.time() - t)\n",
    "\n",
    "cov.list = clusterApply(cl,m1.list,get(\"%*%\"),m2)\n",
    "\n",
    "print(proc.time() - t)\n",
    "\n",
    "cov.list = clusterApply(cl,cov.list,get(\"/\"),(nreaz-1))\n",
    "\n",
    "stopCluster(cl)\n",
    "return(do.call(rbind,cov.list))\n",
    "}\n"
   ]
  },
  {
   "cell_type": "markdown",
   "metadata": {},
   "source": [
    "cov.parallel.2 <- function(m1,m2)\n",
    "{"
   ]
  },
  {
   "cell_type": "code",
   "execution_count": null,
   "metadata": {},
   "outputs": [],
   "source": [
    "m1 = t(apply(m1,2,function(x) x-mean(x)))\n",
    "m2 = apply(m2,2,function(x) x-mean(x))\n",
    "\n",
    "nstate = nrow(m1)\n",
    "nreaz = ncol(m1)\n",
    "\n",
    "ncore = detectCores()-1\n",
    "\n",
    "print(ncore)\n",
    "\n",
    "idx = splitIndices(nstate,ncore)\n",
    "m1.list = lapply(idx,function(ii) m1[ii,,drop=FALSE])\n",
    "cov.list = mclapply(m1.list,function(x) (x %*% m2)/(nreaz-1) )\n",
    "\n",
    "return(do.call(rbind,cov.list))\n",
    "}\n",
    "\n"
   ]
  },
  {
   "cell_type": "markdown",
   "metadata": {},
   "source": [
    "cov.parallel.3 <- function(m1,m2)\n",
    "{"
   ]
  },
  {
   "cell_type": "code",
   "execution_count": null,
   "metadata": {},
   "outputs": [],
   "source": [
    "ncore = detectCores()-1\n",
    "print(ncore)\n",
    "\n",
    "nstate = ncol(m1)\n",
    "nreaz = nrow(m1)\n",
    "\n",
    "idx = splitIndices(nstate,ncore)\n",
    "\n",
    "m1.list = mclapply(idx,function(ii)\n",
    "    t( m1[,ii,drop=FALSE]-\n",
    "       rep(colMeans(m1[,ii,drop=FALSE]),\n",
    "           rep.int(nrow(m1[,ii,drop=FALSE]),ncol(m1[,ii,drop=FALSE])))))\n",
    "\n",
    "m2 = apply(m2,2,function(x) x-mean(x))\n",
    "\n",
    "cov.list = mclapply(m1.list,function(x) (x %*% m2)/(nreaz-1) )\n",
    "return(do.call(rbind,cov.list))\n",
    "}\n"
   ]
  },
  {
   "cell_type": "markdown",
   "metadata": {},
   "source": [
    "cov.parallel.4 <- function(m1,m2)\n",
    "{\n",
    "    t = proc.time()"
   ]
  },
  {
   "cell_type": "code",
   "execution_count": null,
   "metadata": {},
   "outputs": [],
   "source": [
    "ncore = detectCores()-1\n",
    "print(ncore)\n",
    "\n",
    "nstate = ncol(m1)\n",
    "nreaz = nrow(m1)\n",
    "\n",
    "idx = splitIndices(nstate,ncore)\n",
    "\n",
    "print(proc.time() - t)\n",
    "\n",
    "m2 = apply(m2,2,function(x) x-mean(x))\n",
    "\n",
    "print(proc.time() - t)\n",
    "\n",
    "cov.list = mclapply(idx,function(ii)\n",
    "(t( m1[,ii,drop=FALSE]-\n",
    "    rep(colMeans(m1[,ii,drop=FALSE]),\n",
    "        rep.int(nrow(m1[,ii,drop=FALSE]),\n",
    "                ncol(m1[,ii,drop=FALSE])))) %*% m2)/(nreaz-1) )\n",
    "\n",
    "print(proc.time() - t)    \n",
    "return(do.call(rbind,cov.list))\n",
    "}\n"
   ]
  },
  {
   "cell_type": "markdown",
   "metadata": {},
   "source": [
    "cov.parallel.5 <- function(m1,m2)\n",
    "{"
   ]
  },
  {
   "cell_type": "code",
   "execution_count": null,
   "metadata": {},
   "outputs": [],
   "source": [
    "t = proc.time()\n",
    "total.dim = 1.0*nrow(m1)*ncol(m1)*ncol(m2)\n",
    "\n",
    "m1 = t(apply(m1,2,function(x) x-mean(x)))\n",
    "m2 = apply(m2,2,function(x) x-mean(x))\n",
    "\n",
    "nstate = nrow(m1)\n",
    "nreaz = ncol(m1)\n",
    "\n",
    "ncore = detectCores()-1\n",
    "\n",
    "cl = makeCluster(ncore,type=\"FORK\")\n",
    "\n",
    "print(ncore)\n",
    "\n",
    "print(proc.time() - t)\n",
    "\n",
    "idx = splitIndices(nstate,floor(total.dim/5e9*ncore))\n",
    "\n",
    "m1.list = lapply(idx,function(ii) m1[ii,,drop=FALSE])\n",
    "\n",
    "print(proc.time() - t)\n",
    "\n",
    "cov.list = clusterApplyLB(cl,m1.list,get(\"%*%\"),m2)\n",
    "\n",
    "print(proc.time() - t)\n",
    "\n",
    "cov.list = clusterApplyLB(cl,cov.list,get(\"/\"),(nreaz-1))\n",
    "\n",
    "stopCluster(cl)\n",
    "return(do.call(rbind,cov.list))\n",
    "}\n",
    "\n",
    "\n",
    "\n",
    "\n",
    "\n"
   ]
  },
  {
   "cell_type": "markdown",
   "metadata": {},
   "source": [
    "cov.parallel.6 <- function(m1,m2)\n",
    "{\n",
    "    t = proc.time()    \n",
    "    total.dim = 1.0*nrow(m1)*ncol(m1)*ncol(m2)"
   ]
  },
  {
   "cell_type": "code",
   "execution_count": null,
   "metadata": {},
   "outputs": [],
   "source": [
    "ncore = detectCores()-1\n",
    "print(ncore)\n",
    "\n",
    "nstate = ncol(m1)\n",
    "nreaz = nrow(m1)\n",
    "\n",
    "idx = splitIndices(nstate,floor(total.dim/5e9*ncore))\n",
    "\n",
    "print(proc.time() - t)\n",
    "\n",
    "m2 = apply(m2,2,function(x) x-mean(x))\n",
    "\n",
    "print(proc.time() - t)\n",
    "\n",
    "cov.list = mclapply(idx,function(ii)\n",
    "(t( m1[,ii,drop=FALSE]-\n",
    "    rep(colMeans(m1[,ii,drop=FALSE]),\n",
    "        rep.int(nrow(m1[,ii,drop=FALSE]),\n",
    "                ncol(m1[,ii,drop=FALSE])))) %*% m2)/(nreaz-1) )\n",
    "\n",
    "print(proc.time() - t)    \n",
    "return(do.call(rbind,cov.list))\n",
    "}\n"
   ]
  },
  {
   "cell_type": "markdown",
   "metadata": {},
   "source": [
    "cov.parallel.7 <- function(m1,m2)\n",
    "{"
   ]
  },
  {
   "cell_type": "code",
   "execution_count": null,
   "metadata": {},
   "outputs": [],
   "source": [
    "t = proc.time()\n",
    "total.dim = 1.0*nrow(m1)*ncol(m1)*ncol(m2)\n",
    "nstate = ncol(m1)\n",
    "nreaz = nrow(m1)\n",
    "\n",
    "m2 = apply(m2,2,function(x) x-mean(x))\n",
    "\n",
    "ncore = detectCores()-1\n",
    "cl = makeCluster(ncore,type=\"FORK\")\n",
    "print(ncore)\n",
    "\n",
    "print(proc.time() - t)\n",
    "\n",
    "idx = splitIndices(nstate,floor(total.dim/5e9*ncore))\n",
    "\n",
    "cov.list = clusterApplyLB(cl,idx,function(ii)\n",
    "(t( m1[,ii,drop=FALSE]-\n",
    "    rep(colMeans(m1[,ii,drop=FALSE]),\n",
    "        rep.int(nrow(m1[,ii,drop=FALSE]),\n",
    "                ncol(m1[,ii,drop=FALSE])))) %*% m2)/(nreaz-1))\n",
    "\n",
    "stopCluster(cl)\n",
    "return(do.call(rbind,cov.list))\n",
    "}\n",
    "\n"
   ]
  },
  {
   "cell_type": "markdown",
   "metadata": {},
   "source": [
    "cov.parallel.8 <- function(m1,m2)\n",
    "{"
   ]
  },
  {
   "cell_type": "code",
   "execution_count": null,
   "metadata": {},
   "outputs": [],
   "source": [
    "t = proc.time()\n",
    "total.dim = 1.0*nrow(m1)*ncol(m1)*ncol(m2)\n",
    "nstate = ncol(m1)\n",
    "nreaz = nrow(m1)\n",
    "\n",
    "m2 = apply(m2,2,function(x) x-mean(x))\n",
    "\n",
    "ncore = detectCores()-1\n",
    "cl = makeCluster(ncore,type=\"FORK\")\n",
    "print(ncore)\n",
    "\n",
    "print(proc.time() - t)\n",
    "\n",
    "idx = splitIndices(nstate,floor(total.dim/5e9*ncore))\n",
    "\n",
    "cov.list = clusterApplyLB(cl,idx,function(ii)\n",
    "(t( m1[,ii,drop=FALSE]-\n",
    "    rep(colMeans(m1[,ii,drop=FALSE]),\n",
    "        rep.int(nreaz,length(ii)))) %*% m2)/(nreaz-1))"
   ]
  },
  {
   "cell_type": "code",
   "execution_count": null,
   "metadata": {},
   "outputs": [],
   "source": [
    "stopCluster(cl)\n",
    "return(do.call(rbind,cov.list))\n",
    "}\n",
    "\n",
    "\n",
    "\n",
    "\n"
   ]
  },
  {
   "cell_type": "markdown",
   "metadata": {},
   "source": [
    "cov.parallel.9 <- function(m1,m2)\n",
    "{"
   ]
  },
  {
   "cell_type": "code",
   "execution_count": null,
   "metadata": {},
   "outputs": [],
   "source": [
    "t = proc.time()\n",
    "total.dim = 1.0*nrow(m1)*ncol(m1)*ncol(m2)\n",
    "nstate = ncol(m1)\n",
    "nreaz = nrow(m1)\n",
    "\n",
    "m2 = apply(m2,2,function(x) x-mean(x))\n",
    "\n",
    "ncore = detectCores()-1\n",
    "cl = makeCluster(ncore,type=\"FORK\")\n",
    "print(ncore)\n",
    "\n",
    "print(proc.time() - t)\n",
    "\n",
    "idx = splitIndices(nstate,floor(total.dim/5e9*ncore))\n",
    "\n",
    "\n",
    "\n",
    "m1.list = clusterApplyLB(cl,idx,function(ii)\n",
    "    t( m1[,ii,drop=FALSE]-\n",
    "       rep(colMeans(m1[,ii,drop=FALSE]),\n",
    "           rep.int(nreaz,length(ii)))))\n",
    "\n",
    "\n",
    "print(proc.time() - t)\n",
    "\n",
    "cov.list = clusterApplyLB(cl,m1.list,get(\"%*%\"),m2)\n",
    "\n",
    "print(proc.time() - t)\n",
    "\n",
    "cov.list = clusterApplyLB(cl,cov.list,get(\"/\"),(nreaz-1))\n",
    "\n",
    "stopCluster(cl)\n",
    "return(do.call(rbind,cov.list))\n",
    "}\n",
    "\n"
   ]
  },
  {
   "cell_type": "markdown",
   "metadata": {},
   "source": [
    "cov.parallel.10 <- function(m1,m2)\n",
    "{\n",
    "    t = proc.time()\n",
    "    total.dim = 1.0*nrow(m1)*ncol(m1)*ncol(m2)"
   ]
  },
  {
   "cell_type": "code",
   "execution_count": null,
   "metadata": {},
   "outputs": [],
   "source": [
    "m1 = t(apply(m1,2,function(x) x-mean(x)))\n",
    "m2 = apply(m2,2,function(x) (x-mean(x))/(nreaz-1))\n",
    "\n",
    "nstate = nrow(m1)\n",
    "nreaz = ncol(m1)\n",
    "\n",
    "ncore = detectCores()-1\n",
    "\n",
    "cl = makeCluster(ncore,type=\"FORK\")\n",
    "\n",
    "idx = splitIndices(nstate,max(ncore,floor(total.dim/5e9*ncore)))\n",
    "\n",
    "m1.list = lapply(idx,function(ii) m1[ii,,drop=FALSE])"
   ]
  },
  {
   "cell_type": "code",
   "execution_count": null,
   "metadata": {},
   "outputs": [],
   "source": [
    "cov.list = clusterApplyLB(cl,m1.list,get(\"%*%\"),m2)\n",
    "\n",
    "stopCluster(cl)\n",
    "return(do.call(rbind,cov.list))\n",
    "}\n",
    "\n"
   ]
  },
  {
   "cell_type": "markdown",
   "metadata": {},
   "source": [
    "multi.parallel <- function(m1,m2)\n",
    "{\n",
    "    total.dim = 1.0*nrow(m1)*ncol(m1)*ncol(m2)"
   ]
  },
  {
   "cell_type": "code",
   "execution_count": null,
   "metadata": {},
   "outputs": [],
   "source": [
    "nstate = nrow(m1)\n",
    "ncore = detectCores()-1\n",
    "\n",
    "cl = makeCluster(ncore,type=\"FORK\")\n",
    "\n",
    "\n",
    "idx = splitIndices(nstate,max(ncore,floor(total.dim/5e9*ncore)))    \n",
    "\n",
    "m1.list = lapply(idx,function(ii) m1[ii,,drop=FALSE])\n",
    "cov.list = clusterApplyLB(cl,m1.list,get(\"%*%\"),m2)\n",
    "\n",
    "stopCluster(cl)\n",
    "return(do.call(rbind,cov.list))\n",
    "}\n",
    "\n"
   ]
  },
  {
   "cell_type": "markdown",
   "metadata": {},
   "source": [
    "kalman.segment <- function(nsegment)\n",
    "{"
   ]
  },
  {
   "cell_type": "code",
   "execution_count": null,
   "metadata": {},
   "outputs": [],
   "source": [
    "nstate = ncol(state.vector)\n",
    "idx = splitIndices(nstate,nsegment)\n",
    "\n",
    "for (isegment in 1:nsegment)\n",
    "{\n",
    "\n",
    "    cov.state_simu = cov(state.vector[,idx[[isegment]]],simu.ensemble)\n",
    "    kalman.gain = cov.state_simu %*% inv.cov.simuADDobs\n",
    "    state.vector[,idx[[isegment]]] = state.vector[,idx[[isegment]]] +\n",
    "        (obs.ensemble-simu.ensemble) %*% t(kalman.gain)\n",
    "}\n",
    "\n",
    "return(state.vector)    \n",
    "}\n"
   ]
  },
  {
   "cell_type": "markdown",
   "metadata": {},
   "source": [
    "kalman.parallel <- function ()\n",
    "{\n",
    "    product.obs_simu = multi.parallel(inv.cov.simuADDobs,\n",
    "                                      t(obs.ensemble-simu.ensemble))\n",
    "    ## rm(list=c(\"obs.ensemble\",\n",
    "    ##           \"obs.ensemble\",\n",
    "    ##           \"inv.cov.simuADDobs\",\n",
    "    ##           \"cov.simu\"))\n",
    "    centered.state = t(apply(state.vector,2,function(x) x-mean(x)))\n",
    "    centered.simu = apply(simu.ensemble,2,function(x) (x-mean(x))/(nreaz-1))\n",
    "    kalman.part = multi.parallel(centered.simu,product.obs_simu)\n",
    "#    rm(list=c(\"product.obs_simu\",\"centered.simu\"))\n",
    "    kalman.correction = t(multi.parallel(centered.state,kalman.part))\n",
    "#    rm(list=c(\"kalman.part\",\"centered.state\"))\n",
    "    state.vector = state.vector+kalman.correction\n",
    " #   rm(list=c(\"kalman.correction\"))\n",
    "    return(state.vector)\n",
    "}"
   ]
  }
 ],
 "metadata": {},
 "nbformat": 4,
 "nbformat_minor": 2
}
