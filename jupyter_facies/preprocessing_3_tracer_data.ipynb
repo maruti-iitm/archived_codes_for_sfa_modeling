{
 "cells": [
  {
   "cell_type": "code",
   "execution_count": null,
   "metadata": {},
   "outputs": [],
   "source": [
    "###this program is used to preprocess tracer data\n",
    "\n",
    "rm(list=ls())"
   ]
  },
  {
   "cell_type": "code",
   "execution_count": null,
   "metadata": {},
   "outputs": [],
   "source": [
    "obs.sd.ratio = 0.1\n",
    "\n",
    "\n",
    "###data.file  = \"~/repos/sbr-river-corridor-sfa/data/TracerData_Oct2011_new.csv\"\n",
    "data.file  = \"./data/TracerData_Oct2011_new.csv\"\n",
    "data = read.csv(data.file,stringsAsFactors=FALSE)"
   ]
  },
  {
   "cell_type": "code",
   "execution_count": null,
   "metadata": {},
   "outputs": [],
   "source": [
    "data[,1] = paste(\"399-\",data[,1],sep=\"\")\n",
    "\n",
    "data[,2] = as.POSIXct(data[,2],tz=\"GMT\",format=\"%m/%d/%y %H:%M\")\n",
    "colnames(data) = gsub(\"\\\\.\\\\.\",\"-\",gsub(\"ug.L.\",\"ugL\",gsub(\"mg.L.\",\"mgL\",colnames(data))))\n",
    "data = data[,c(\"Well.Name\",\"Sample.Time.PDT\",\"Cl-mgL\")]\n",
    "colnames(data) = c(\"well\",\"time\",\"tracer\")\n",
    "\n",
    "wells = names(table(data[,1]))\n",
    "nwell = length(wells)\n",
    "\n",
    "inject.time = as.POSIXct(\"10/19/11 11:00\",tz=\"GMT\",format=\"%m/%d/%y %H:%M\")\n",
    "start.time = inject.time\n",
    "end.time = start.time+192*3600"
   ]
  },
  {
   "cell_type": "code",
   "execution_count": null,
   "metadata": {},
   "outputs": [],
   "source": [
    "well.min = rep(NA,nwell)\n",
    "names(well.min) = wells\n",
    "\n",
    "data = data[which(data[,\"time\"]<=end.time),]\n",
    "for (iwell in wells)\n",
    "{\n",
    "    well.min[iwell] = min(data[which(data[,\"well\"]==iwell),\"tracer\"],na.rm=TRUE)\n",
    "}\n",
    "well.max = max(data[,\"tracer\"],na.rm=TRUE)"
   ]
  },
  {
   "cell_type": "code",
   "execution_count": null,
   "metadata": {},
   "outputs": [],
   "source": [
    "data = data[which(data[,2]>=start.time),]\n",
    "data = data[which(!is.na(data[,3])),]\n",
    "\n",
    "for (iwell in wells)\n",
    "{\n",
    "    data.temp = data[which(data[,\"well\"]==iwell),\"tracer\"]\n",
    "    data[which(data[,\"well\"]==iwell),\"tracer\"] = (data.temp-well.min[iwell])/(\n",
    "        well.max-well.min[iwell])\n",
    "}\n",
    "data[,\"time\"] = as.numeric(difftime(data[,\"time\"],start.time,units=\"hour\"))\n",
    "data[,\"time\"] = round(data[,\"time\"],3)\n",
    "data[,\"tracer\"] = round(data[,\"tracer\"],3)"
   ]
  },
  {
   "cell_type": "code",
   "execution_count": null,
   "metadata": {},
   "outputs": [],
   "source": [
    "##screen some wells out\n",
    "da.wells = c()\n",
    "for (iwell in wells)\n",
    "{\n",
    "#    print(iwell)\n",
    "     if(max(c(data[which(data[,\"well\"]==iwell),\"tracer\"]),0)>0.03)\n",
    "    {\n",
    "        da.wells = c(da.wells,iwell)\n",
    "    }\n",
    "\n",
    "}\n",
    "\n",
    "all.time = c()\n",
    "for (iwell in da.wells)\n",
    "{\n",
    "    all.time = c(all.time,data[data[,\"well\"]==iwell,\"time\"])\n",
    "}\n",
    "\n",
    "collect.times = sort(unique(all.time))\n",
    "ncollect = length(collect.times)"
   ]
  },
  {
   "cell_type": "code",
   "execution_count": null,
   "metadata": {},
   "outputs": [],
   "source": [
    "obs.card = paste(\"   TIMES sec  \\\\\")\n",
    "npl = 3 ##ntime per line\n",
    "nline = ncollect %/% npl\n",
    "if (nline == 0 | nline==1) {\n",
    "    obs.card = c(obs.card,paste(collect.times,collapse=\" \"))\n",
    "} else {\n",
    "    for (iline in 1:(nline-1))\n",
    "    {\n",
    "        obs.card = c(obs.card,\n",
    "                     paste(paste(collect.times[((iline-1)*npl+1):(iline*npl)],\n",
    "                                 collapse=\" \"),\"\\\\\"))\n",
    "    }\n",
    "    obs.card = c(obs.card,\n",
    "                 paste(collect.times[(iline*npl+1):ncollect],\n",
    "                       collapse=\" \"))\n",
    "}\n",
    "writeLines(obs.card,\"results/obs_card.in\")"
   ]
  },
  {
   "cell_type": "code",
   "execution_count": null,
   "metadata": {},
   "outputs": [],
   "source": [
    "da.list = list()\n",
    "obs.data = c()\n",
    "for (iwell in da.wells)\n",
    "{\n",
    "    da.list[[iwell]] = match(data[data[,\"well\"]==iwell,\"time\"],collect.times)\n",
    "    obs.data = c(obs.data,data[data[,\"well\"]==iwell,\"tracer\"])\n",
    "}\n",
    "\n",
    "load(\"results/cells_to_update.r\")\n",
    "save(list=c(\"collect.times\",\"data\",\n",
    "            \"da.wells\",\"obs.data\",\"cells.to.update\",\n",
    "            \"da.list\"),file=\"results/obs_info.r\")"
   ]
  },
  {
   "cell_type": "code",
   "execution_count": null,
   "metadata": {},
   "outputs": [],
   "source": [
    "jpg.name = paste(\"figures/tracer_obs.jpg\",sep=\"\")\n",
    "jpeg(jpg.name,width=10,heigh=6,units=\"in\",quality=100,res=300)\n",
    "par(mfrow=c(4,6),        \n",
    "    mar=c(3,3,1,0),\n",
    "    oma=c(3,2,1,1),\n",
    "    mgp=c(1.5,0.7,0)\n",
    "    )\n",
    "\n",
    "for (iwell in da.wells)\n",
    "{\n",
    "    plot(data[data[,\"well\"]==iwell,\"time\"],\n",
    "         data[data[,\"well\"]==iwell,\"tracer\"],\n",
    "         pch=1,\n",
    "         ##                 xlim=range(start.time,end.time),\n",
    "         ylim=c(0,1.2),\n",
    "         xlab=\"Time (h)\",\n",
    "         ylab=\"Scaled C(%)\",\n",
    "         col=\"red\",\n",
    "         main=iwell,\n",
    "         )\n",
    "\n",
    "}\n",
    "dev.off()"
   ]
  }
 ],
 "metadata": {
  "kernelspec": {
   "display_name": "R",
   "language": "R",
   "name": "ir"
  },
  "language_info": {
   "codemirror_mode": "r",
   "file_extension": ".r",
   "mimetype": "text/x-r-source",
   "name": "R",
   "pygments_lexer": "r",
   "version": "3.4.0"
  }
 },
 "nbformat": 4,
 "nbformat_minor": 2
}
