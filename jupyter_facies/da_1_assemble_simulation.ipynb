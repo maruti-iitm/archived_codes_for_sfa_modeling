{
 "cells": [
  {
   "cell_type": "code",
   "execution_count": null,
   "metadata": {},
   "outputs": [],
   "source": [
    "rm(list = ls())\n",
    "library(rhdf5)\n",
    "library(RCurl) #for merage list\n",
    "\n",
    "args=(commandArgs(TRUE))\n",
    "if(length(args)==0){\n",
    "    print(\"no arguments supplied, use default value\")\n",
    "    ireaz=1\n",
    "}else{\n",
    "    for(i in 1:length(args)){\n",
    "        eval(parse(text=args[[i]]))\n",
    "    }\n",
    "}\n",
    "print(paste(\"ireaz =\",ireaz))"
   ]
  },
  {
   "cell_type": "code",
   "execution_count": null,
   "metadata": {},
   "outputs": [],
   "source": [
    "out.dir = \"pflotran_mc\"\n",
    "load(\"results/obs_info.r\")\n",
    "load(\"results/obs_name.r\")\n",
    "\n",
    "wells = da.wells\n",
    "nwell = length(wells)\n",
    "\n",
    "obs.time = collect.times\n",
    "ntime = length(obs.time)"
   ]
  },
  {
   "cell_type": "code",
   "execution_count": null,
   "metadata": {},
   "outputs": [],
   "source": [
    "###read in all data\n",
    "simu.all=list()\n",
    "\n",
    "simu.all=list()\n",
    "for (obs.file in list.files(paste(\"pflotran_mc/\",sep=''),pattern=paste(\"RR\",ireaz,\"-obs-\",sep='')))\n",
    "{     \n",
    "    header=read.table(paste(\"pflotran_mc/\",obs.file,sep=''),nrow=1,sep=\",\",header=FALSE,stringsAsFactors=FALSE)\n",
    "    simu.single=read.table(paste(\"pflotran_mc/\",obs.file,sep=''),skip=1,header=FALSE)\n",
    "    colnames(simu.single)=header\n",
    "    simu.all=merge.list(simu.all,simu.single)\n",
    "}\n",
    "\n",
    "save(simu.all,file=paste(\"outputs/simu.all.\",ireaz,\".r\",sep=''))"
   ]
  },
  {
   "cell_type": "code",
   "execution_count": null,
   "metadata": {},
   "outputs": [],
   "source": [
    "simu.tracer = list()\n",
    "simu.tracer = array(NA,c(ntime,nwell))\n",
    "colnames(simu.tracer) = wells\n",
    "\n",
    "for (itime in 1:ntime)\n",
    "{\n",
    "    print(paste(\"itime =\",itime))            \n",
    "    simu.row=which.min(abs(obs.time[itime]-simu.all[1][,1]))        \n",
    "    for (iwell in wells)\n",
    "    {\n",
    "        well.index = grep(paste(obs.name[[iwell]],collapse=\"|\"),\n",
    "                          names(simu.all))\n",
    "\n",
    "        obs.type=\"Tracer1\"\n",
    "        simu.col=intersect(grep(obs.type,names(simu.all)),well.index)\n",
    "        tracer.value = as.numeric(simu.all[simu.row,simu.col])\n",
    "\n",
    "\n",
    "        obs.type=\"qlx\"\n",
    "        simu.col=intersect(grep(obs.type,names(simu.all)),well.index)\n",
    "        vx.value = as.numeric(simu.all[simu.row,simu.col])\n",
    "\n",
    "        obs.type=\"qly\"\n",
    "        simu.col=intersect(grep(obs.type,names(simu.all)),well.index)\n",
    "        vy.value = as.numeric(simu.all[simu.row,simu.col])\n",
    "        \n",
    "        v.value = (vx.value^2+vy.value^2)^0.5\n",
    "        simu.tracer[itime,iwell] =\n",
    "            sum(tracer.value*v.value)/sum(v.value)\n",
    "    }\n",
    "}\n",
    "save(simu.tracer,file=paste(\"outputs/simu_tracer_\",ireaz,\".r\",sep=\"\"))"
   ]
  }
 ],
 "metadata": {
  "kernelspec": {
   "display_name": "R",
   "language": "R",
   "name": "ir"
  },
  "language_info": {
   "codemirror_mode": "r",
   "file_extension": ".r",
   "mimetype": "text/x-r-source",
   "name": "R",
   "pygments_lexer": "r",
   "version": "3.4.0"
  }
 },
 "nbformat": 4,
 "nbformat_minor": 2
}
