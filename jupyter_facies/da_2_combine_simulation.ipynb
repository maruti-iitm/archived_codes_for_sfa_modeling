{
 "cells": [
  {
   "cell_type": "code",
   "execution_count": null,
   "metadata": {},
   "outputs": [],
   "source": [
    "rm(list=ls())\n",
    "args=(commandArgs(TRUE))\n",
    "\n",
    "if(length(args)==0){\n",
    "    print(\"no arguments supplied, use default value\")\n",
    "    nreaz = 300\n",
    "    iter = 0\n",
    "}else{\n",
    "    for(i in 1:length(args)){\n",
    "        eval(parse(text=args[[i]]))\n",
    "    }\n",
    "}\n",
    "\n",
    "input.dir = \"outputs/\"\n",
    "simu.tracer.all = list()\n",
    "for (ireaz in 1:nreaz)\n",
    "{\n",
    "    print(ireaz)\n",
    "    load(paste(input.dir,\"simu_tracer_\",ireaz,\".r\",sep=\"\"))\n",
    "\n",
    "    simu.tracer.all[[ireaz]] = simu.tracer\n",
    "}\n",
    "save(simu.tracer.all,file=paste(\"results/simu_tracer_all_\",iter,\".r\",sep=\"\"))    \n"
   ]
  }
 ],
 "metadata": {
  "kernelspec": {
   "display_name": "R",
   "language": "R",
   "name": "ir"
  },
  "language_info": {
   "codemirror_mode": "r",
   "file_extension": ".r",
   "mimetype": "text/x-r-source",
   "name": "R",
   "pygments_lexer": "r",
   "version": "3.4.0"
  }
 },
 "nbformat": 4,
 "nbformat_minor": 2
}
