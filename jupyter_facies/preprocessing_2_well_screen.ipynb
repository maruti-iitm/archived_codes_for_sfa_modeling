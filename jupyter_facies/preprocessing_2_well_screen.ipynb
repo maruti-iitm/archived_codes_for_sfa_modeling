{
 "cells": [
  {
   "cell_type": "code",
   "execution_count": null,
   "metadata": {},
   "outputs": [],
   "source": [
    "rm(list=ls())\n",
    "source(\"./codes/xuehang_R_functions.R\")\n",
    "source(\"./codes/ifrc_120m_3d.R\")"
   ]
  },
  {
   "cell_type": "code",
   "execution_count": null,
   "metadata": {},
   "outputs": [],
   "source": [
    "fname = \"./data/Top_Elevation_Well_List_all_XUEHANG.csv\"\n",
    "well.screens = read.csv(fname)\n",
    "rownames(well.screens) = well.screens[,2]\n",
    "well.screens = well.screens[,c(5,4,6,7)]"
   ]
  },
  {
   "cell_type": "code",
   "execution_count": null,
   "metadata": {},
   "outputs": [],
   "source": [
    "data.file  = \"./data/TracerData_Oct2011_new.csv\"\n",
    "data = read.csv(data.file,stringsAsFactors=FALSE)\n",
    "wells = paste(\"399-\",names(table(data[,1])),sep=\"\")\n",
    "\n",
    "well.screens = well.screens[wells,]\n",
    "well.screens = as.matrix(well.screens)\n",
    "\n",
    "well.screens[,1:2] = proj_to_model(model_origin,angle,well.screens[,1:2])\n",
    "well.screens = well.screens[which(well.screens[,1]>=range_x[1] &\n",
    "                                  well.screens[,1]<=range_x[2]),]\n",
    "\n",
    "well.screens = well.screens[which(well.screens[,2]>=range_y[1] &\n",
    "                                  well.screens[,2]<=range_y[2]),]"
   ]
  },
  {
   "cell_type": "code",
   "execution_count": null,
   "metadata": {},
   "outputs": [],
   "source": [
    "wells = rownames(well.screens)\n",
    "\n",
    "    \n",
    "nwell = nrow(well.screens)\n",
    "obs.loc = list()\n",
    "for (iwell in wells)\n",
    "{\n",
    "    x.index = which.min(abs(x-well.screens[iwell,1]))\n",
    "    y.index = which.min(abs(y-well.screens[iwell,2]))                   \n",
    "    z.index = which(z<=well.screens[iwell,3] & z>=well.screens[iwell,4])\n",
    "    \n",
    "    if (length(z.index)==0)\n",
    "    {\n",
    "        z.index = which.min(abs(z-mean(well.screens[iwell,3:4])))\n",
    "    }\n",
    "\n",
    "    ##    obs.loc[[iwell]] = (z.index-1)*nx*ny+(y.index-1)*nx+x.index\n",
    "    obs.loc[[iwell]] = cbind(rep(x.index,length(z.index)),\n",
    "                             rep(y.index,length(z.index)),\n",
    "                             z.index)\n",
    "}"
   ]
  },
  {
   "cell_type": "code",
   "execution_count": null,
   "metadata": {},
   "outputs": [],
   "source": [
    "obs.region = c()\n",
    "obs.card = c()\n",
    "for (iwell in wells)\n",
    "{\n",
    "    for (ipoint in 1:nrow(obs.loc[[iwell]]))\n",
    "    {\n",
    "        obs.region = c(obs.region,\n",
    "                       paste(\"REGION Well_\",iwell,\"_\",ipoint,sep=\"\"))\n",
    "        obs.region = c(obs.region,\n",
    "                       paste(\"  COORDINATE\",\n",
    "                             paste(round(well.screens[iwell,1:2],2),collapse=\" \"),\n",
    "                             z[obs.loc[[iwell]][ipoint,3]],collapse=\"\"))\n",
    "        obs.region = c(obs.region,\"END\")\n",
    "        obs.region = c(obs.region,\"\")        \n",
    "\n",
    "        obs.card = c(obs.card,\"OBSERVATION\")\n",
    "        obs.card = c(obs.card,\n",
    "                     paste(\"  REGION Well_\",iwell,\"_\",ipoint,sep=\"\"))\n",
    "        obs.card = c(obs.card,\"  VELOCITY\")\n",
    "        obs.card = c(obs.card,\"END\")\n",
    "        obs.card = c(obs.card,\"\")        \n",
    "    }\n",
    "\n",
    "}\n",
    "writeLines(obs.region,\"results/obs_region.txt\")\n",
    "writeLines(obs.card,\"results/obs_card.txt\")"
   ]
  },
  {
   "cell_type": "code",
   "execution_count": null,
   "metadata": {},
   "outputs": [],
   "source": [
    "obs.name = list()\n",
    "for (iwell in wells)\n",
    "{\n",
    "    obs.name[[iwell]] = paste(paste(\"Well_\",iwell,\"_\",sep=\"\"),\n",
    "                              1:nrow(obs.loc[[iwell]]),sep=\"\")\n",
    "}\n",
    "\n",
    "save(obs.loc,file=\"results/obs_loc.r\")\n",
    "save(obs.name,file=\"results/obs_name.r\")"
   ]
  }
 ],
 "metadata": {
  "kernelspec": {
   "display_name": "R",
   "language": "R",
   "name": "ir"
  },
  "language_info": {
   "codemirror_mode": "r",
   "file_extension": ".r",
   "mimetype": "text/x-r-source",
   "name": "R",
   "pygments_lexer": "r",
   "version": "3.4.0"
  }
 },
 "nbformat": 4,
 "nbformat_minor": 2
}
