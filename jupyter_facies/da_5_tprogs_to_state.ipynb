{
 "cells": [
  {
   "cell_type": "code",
   "execution_count": null,
   "metadata": {},
   "outputs": [],
   "source": [
    "rm(list=ls())\n",
    "args=(commandArgs(TRUE))\n",
    "#source(\"codes/da_functions.R\")"
   ]
  },
  {
   "cell_type": "code",
   "execution_count": null,
   "metadata": {},
   "outputs": [],
   "source": [
    "if(length(args)==0){\n",
    "    print(\"no arguments supplied, use default value\")\n",
    "    iter=1\n",
    "    nreaz=300\n",
    "    nfacies=3        \n",
    "}else{\n",
    "    for(i in 1:length(args)){\n",
    "        eval(parse(text=args[[i]]))\n",
    "    }\n",
    "}\n",
    "load(paste(\"results/perm_vector.\",iter,sep=\"\"))"
   ]
  },
  {
   "cell_type": "code",
   "execution_count": null,
   "metadata": {},
   "outputs": [],
   "source": [
    "nreaz = nrow(perm.vector)\n",
    "nfacies = ncol(perm.vector)\n",
    "perm.vector = perm.vector[1:nreaz,]\n",
    "load(file=paste(\"results/tprogs.\",iter,sep=\"\"))"
   ]
  },
  {
   "cell_type": "code",
   "execution_count": null,
   "metadata": {},
   "outputs": [],
   "source": [
    "temp.vector  = indicator.vector\n",
    "temp.vector[temp.vector!=1] = 0\n",
    "facies1.mean = colMeans(temp.vector)\n",
    "\n",
    "temp.vector  = indicator.vector\n",
    "temp.vector[temp.vector!=2] = 0\n",
    "facies2.mean = colMeans(temp.vector)/2\n",
    "facies2.mean = facies2.mean/(1-facies1.mean)\n",
    "facies2.mean[facies1.mean==1] = 0\n",
    "facies1.mean = round(facies1.mean,8)\n",
    "facies2.mean = round(facies2.mean,8)\n",
    "\n",
    "facies1.mean[which(facies1.mean==0)] = 1e-8\n",
    "facies1.mean[which(facies1.mean==1)] = 1-1e-8\n",
    "facies2.mean[which(facies2.mean==0)] = 1e-8\n",
    "facies2.mean[which(facies2.mean==1)] = 1-1e-8"
   ]
  },
  {
   "cell_type": "code",
   "execution_count": null,
   "metadata": {},
   "outputs": [],
   "source": [
    "nnode = length(facies1.mean)\n",
    "\n",
    "levelset.1 = array(NA,c(nreaz,nnode))\n",
    "levelset.2 = array(NA,c(nreaz,nnode))\n",
    "\n",
    "for (inode in 1:nnode)\n",
    "{\n",
    "    if(!is.na(match(inode,c(1:10000)*1000)))\n",
    "    {\n",
    "        print(inode)\n",
    "    }\n",
    "\n",
    "\n",
    "    set.seed(inode+iter*inode)\n",
    "    levelset1.reaz = rnorm(nreaz,0,1)+qnorm(facies1.mean[inode],0,1)    \n",
    "    facies1.reaz = which(indicator.vector[,inode]==1)\n",
    "    \n",
    "    set.seed(inode+iter*inode+1)\n",
    "    levelset1.temp = rnorm(nreaz*100,0,1)+qnorm(facies1.mean[inode],0,1)\n",
    "    levelset1.reaz[facies1.reaz] = levelset1.temp[\n",
    "        which(levelset1.temp>0)][1:length(facies1.reaz)]\n",
    "    levelset1.reaz[-facies1.reaz] = levelset1.temp[\n",
    "        which(levelset1.temp<=0)][1:(nreaz-length(facies1.reaz))]\n",
    "\n",
    "    if(any(is.na(levelset1.reaz)))\n",
    "    {\n",
    "        print(\"1\")        \n",
    "        stop()\n",
    "    }\n",
    "    \n",
    "    levelset2.reaz = rnorm(nreaz,0,1)+qnorm(facies2.mean[inode],0,1)\n",
    "    facies2.reaz = which(indicator.vector[,inode]==2)\n",
    "\n",
    "\n",
    "    levelset2.temp = rnorm(nreaz*100,0,1)+qnorm(facies2.mean[inode],0,1)\n",
    "    levelset2.reaz[facies2.reaz] = levelset2.temp[\n",
    "        which(levelset2.temp>0)][1:length(facies2.reaz)]\n",
    "    levelset2.reaz[-c(facies1.reaz,facies2.reaz)] = levelset2.temp[\n",
    "        which(levelset2.temp<=0)][1:(nreaz-length(c(facies1.reaz,facies2.reaz)))]       \n",
    "\n",
    "    if(any(is.na(levelset2.reaz)))\n",
    "    {\n",
    "        print(\"2\")\n",
    "        stop()\n",
    "    }\n",
    "\n",
    "    \n",
    "    levelset.1[,inode] = levelset1.reaz\n",
    "    levelset.2[,inode] = levelset2.reaz    \n",
    "}"
   ]
  },
  {
   "cell_type": "code",
   "execution_count": null,
   "metadata": {},
   "outputs": [],
   "source": [
    "facies.prob = array(NA,c(nnode,nfacies))\n",
    "for (ifacies in 1:nfacies)\n",
    "    {\n",
    "        temp.matrix = indicator.vector\n",
    "        temp.matrix[indicator.vector!=ifacies] = 0\n",
    "        facies.prob[,ifacies] = colMeans(temp.matrix)/ifacies\n",
    "    }\n",
    "save(facies.prob,file=paste(\"results/facies_prob_\",iter,\".r\",sep=\"\"))\n",
    "\n",
    "state.vector = cbind(perm.vector,levelset.1,levelset.2)\n",
    "state.vector[which(is.na(state.vector))] = 0\n",
    "save(state.vector,file=paste(\"results/state_vector.\",iter,sep=\"\"))"
   ]
  }
 ],
 "metadata": {
  "kernelspec": {
   "display_name": "R",
   "language": "R",
   "name": "ir"
  },
  "language_info": {
   "codemirror_mode": "r",
   "file_extension": ".r",
   "mimetype": "text/x-r-source",
   "name": "R",
   "pygments_lexer": "r",
   "version": "3.4.0"
  }
 },
 "nbformat": 4,
 "nbformat_minor": 2
}
