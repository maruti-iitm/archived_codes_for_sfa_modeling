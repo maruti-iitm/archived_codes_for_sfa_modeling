{
 "cells": [
  {
   "cell_type": "markdown",
   "metadata": {},
   "source": [
    "# parameters for ploting"
   ]
  },
  {
   "cell_type": "code",
   "execution_count": null,
   "metadata": {},
   "outputs": [],
   "source": [
    "ref.reaz = 132\n",
    "niter=4\n",
    "nreaz = 300\n",
    "nfacies = 3\n",
    "iter = 0"
   ]
  },
  {
   "cell_type": "markdown",
   "metadata": {},
   "source": [
    "# load reference value"
   ]
  },
  {
   "cell_type": "markdown",
   "metadata": {},
   "source": [
    "perm.ref = rep(NA,nfacies)\n",
    "for (ifacies in 1:nfacies)\n",
    "{\n",
    "    perm.ref[ifacies] = perm.list[[ifacies]][ref.reaz]\n",
    "}\n",
    "\n",
    "perm.mean = array(NA,c(niter+1,nfacies))\n",
    "perm.sd = array(NA,c(niter+1,nfacies))"
   ]
  },
  {
   "cell_type": "markdown",
   "metadata": {},
   "source": [
    "# load data assimilation results"
   ]
  },
  {
   "cell_type": "markdown",
   "metadata": {},
   "source": [
    "perm.list = list()\n",
    "iter=0\n",
    "load(paste(\"results/perm_vector.\",iter,sep=\"\"))\n",
    "perm.list = list()\n",
    "for (ifacies in 1:nfacies)\n",
    "{\n",
    "    perm.list[[ifacies]] = perm.vector[,ifacies]\n",
    "    perm.mean[iter+1,] = as.numeric(apply(perm.vector,2,mean))\n",
    "    perm.sd[iter+1,] = as.numeric(apply(perm.vector,2,sd))    \n",
    "    \n",
    "}"
   ]
  },
  {
   "cell_type": "markdown",
   "metadata": {},
   "source": [
    "# caculate mean and variance"
   ]
  },
  {
   "cell_type": "markdown",
   "metadata": {},
   "source": [
    "for (iter in 1:niter)\n",
    "{\n",
    "    load(paste(\"results/perm_vector.\",iter,sep=\"\"))\n",
    "    for (ifacies in 1:nfacies)\n",
    "    {\n",
    "        perm.list[[ifacies]] = cbind(perm.list[[ifacies]],perm.vector[,ifacies])\n",
    "    }\n",
    "    perm.mean[iter+1,] = as.numeric(apply(perm.vector,2,mean))\n",
    "    perm.sd[iter+1,] = as.numeric(apply(perm.vector,2,sd))    \n",
    "}"
   ]
  },
  {
   "cell_type": "markdown",
   "metadata": {},
   "source": [
    "# plot figures"
   ]
  },
  {
   "cell_type": "markdown",
   "metadata": {},
   "source": [
    "title = c(\"(a) Hanford\",\n",
    "          \"(b) Ringold Gravel\",\n",
    "          \"(c) Ringold Fine\")\n",
    "\n",
    "jpeg(\"figures/perm.jpg\",width=6.5,heigh=2,units=\"in\",quality=100,res=300)\n",
    "par(mfrow=c(1,3),        \n",
    "    mar=c(3,2,1,0),\n",
    "    oma=c(0,1.5,0.5,0.5),\n",
    "    mgp=c(1.5,0.7,0)\n",
    "    )\n",
    "for (ifacies in 1:nfacies)\n",
    "{\n",
    "    plot(0:niter,unlist(perm.mean[,ifacies]),\n",
    "         type=\"l\",\n",
    "         ylab=NA,\n",
    "         col=\"red\",\n",
    "         axes=FALSE,\n",
    "         xlab=\"Iteration [-]\",         \n",
    "         ylim=c(round(min(perm.list[[ifacies]]),1),\n",
    "               round(max(perm.list[[ifacies]]),1)),\n",
    "         main=title[ifacies]\n",
    "         )\n",
    "\n",
    "    if (ifacies == 1)\n",
    "    {\n",
    "        mtext(expression(paste(\"Permeability (log10, m\"^2,\")\")),2,cex=0.7,line=1.7)\n",
    "    }\n",
    "\n",
    "    axis(1,0:4)\n",
    "    axis(2,seq(round(min(perm.list[[ifacies]]),1),\n",
    "               round(max(perm.list[[ifacies]]),1),\n",
    "               length.out=5),\n",
    "         labels=round(seq(round(min(perm.list[[ifacies]]),1),\n",
    "               round(max(perm.list[[ifacies]]),1),\n",
    "               length.out=5),1)[c(1,NA,3,NA,5)]\n",
    "\n",
    "         )\n",
    "\n",
    "\n",
    "\n",
    "         \n",
    "    \n",
    "    for (ireaz in 1:nreaz)\n",
    "    {\n",
    "        lines(0:niter,perm.list[[ifacies]][ireaz,],col=\"lightsalmon3\")\n",
    "    }\n",
    "    lines(0:niter,unlist(perm.mean[,ifacies]),col=\"black\",lwd=2)\n",
    "    lines(0:100,rep(perm.ref[ifacies],101),col=\"blue\",lty=2,lwd=2)\n",
    "\n",
    "    if (ifacies==1)\n",
    "    {\n",
    "        legend(\"topright\",\n",
    "               c(\"Reference\",\"Mean\",\"Realization\"),\n",
    "               col=c(\"blue\",\"black\",\"lightsalmon3\"),\n",
    "               lty=c(2,1,1),\n",
    "               lwd=c(2,2,1),\n",
    "               bty=\"n\"\n",
    "               )\n",
    "\n",
    "    }\n",
    "\n",
    "}\n",
    "\n",
    "dev.off()"
   ]
  }
 ],
 "metadata": {
  "kernelspec": {
   "display_name": "R",
   "language": "R",
   "name": "ir"
  },
  "language_info": {
   "codemirror_mode": "r",
   "file_extension": ".r",
   "mimetype": "text/x-r-source",
   "name": "R",
   "pygments_lexer": "r",
   "version": "3.4.0"
  }
 },
 "nbformat": 4,
 "nbformat_minor": 2
}
