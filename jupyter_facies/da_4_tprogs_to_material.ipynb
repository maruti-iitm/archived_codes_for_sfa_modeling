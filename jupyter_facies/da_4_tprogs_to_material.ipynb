{
 "cells": [
  {
   "cell_type": "code",
   "execution_count": null,
   "metadata": {},
   "outputs": [],
   "source": [
    "rm(list=ls())\n",
    "args=(commandArgs(TRUE))\n",
    "library(rhdf5)\n",
    "source(\"codes/ifrc_120m_3d.R\")"
   ]
  },
  {
   "cell_type": "code",
   "execution_count": null,
   "metadata": {},
   "outputs": [],
   "source": [
    "if(length(args)==0){\n",
    "    print(\"no arguments supplied, use default value\")\n",
    "    iter=0\n",
    "    nreaz=300\n",
    "    nfacies=3        \n",
    "}else{\n",
    "    for(i in 1:length(args)){\n",
    "        eval(parse(text=args[[i]]))\n",
    "    }\n",
    "}\n",
    "load(\"results/known_ringold.r\")"
   ]
  },
  {
   "cell_type": "code",
   "execution_count": null,
   "metadata": {},
   "outputs": [],
   "source": [
    "load(paste(\"results/perm_vector.\",iter,sep=\"\"))\n",
    "nreaz = nrow(perm.vector)\n",
    "nfacies = ncol(perm.vector)\n",
    "perm.vector = perm.vector[1:nreaz,]\n",
    "indicator.vector = c()"
   ]
  },
  {
   "cell_type": "code",
   "execution_count": null,
   "metadata": {},
   "outputs": [],
   "source": [
    "for (ireaz in 1:nreaz)\n",
    "{\n",
    "    print(ireaz)\n",
    "    tprogs.temp = as.numeric(unlist(read.table(paste(\"./tprogs/\",ireaz,\".r\",sep=\"\"),skip=2)))\n",
    "    tprogs.temp[known.ringold] = 3\n",
    "    \n",
    "    indicator.vector  = rbind(indicator.vector,tprogs.temp)\n",
    "}\n",
    "save(indicator.vector,file=paste(\"results/tprogs.\",iter,sep=\"\"))"
   ]
  },
  {
   "cell_type": "code",
   "execution_count": null,
   "metadata": {},
   "outputs": [],
   "source": [
    "fname = \"pflotran_mc/mc_material.h5\"\n",
    "if(file.exists(fname)) {file.remove(fname)}\n",
    "h5createFile(fname)\n",
    "h5createGroup(fname,\"Materials\")\n",
    "\n",
    "cell.ids = 1:(nx*ny*nz)\n",
    "h5write(cell.ids,fname,\"Materials/Cell Ids\",level=0)"
   ]
  },
  {
   "cell_type": "code",
   "execution_count": null,
   "metadata": {},
   "outputs": [],
   "source": [
    "for (ireaz in 1:nreaz)\n",
    "{\n",
    "    print(ireaz)\n",
    "    material.ids = rep(0,nx*ny*nz)\n",
    "    material.ids[which(indicator.vector[ireaz,]==1)] = 1\n",
    "    material.ids[which(indicator.vector[ireaz,]==2)] = 9\n",
    "    material.ids[which(indicator.vector[ireaz,]==3)] = 4\n",
    "    h5write(material.ids,fname,paste(\"Materials/Material Ids\",ireaz,sep=\"\"),level=0)    \n",
    "}"
   ]
  },
  {
   "cell_type": "code",
   "execution_count": null,
   "metadata": {},
   "outputs": [],
   "source": [
    "for (ifacies in 1:nfacies)\n",
    "{\n",
    "    fname = paste(\"pflotran_mc/unit\",ifacies,\"_perm.h5\",sep=\"\")\n",
    "    if(file.exists(fname)) {file.remove(fname)}\n",
    "    h5createFile(fname)\n",
    "    cell.ids = 1:(nx*ny*nz)\n",
    "    h5write(cell.ids,fname,\"Cell Ids\",level=0)\n",
    "\n",
    "    for (ireaz in 1:nreaz)\n",
    "    {\n",
    "        print(ireaz)\n",
    "        perm.ireaz = rep(10^(perm.vector[ireaz,ifacies]),nx*ny*nz)\n",
    "        h5write(perm.ireaz,fname,paste(\"unit\",ifacies,\"_perm\",ireaz,sep=\"\"),level=0)                    \n",
    "    }\n",
    "}\n",
    "\n",
    "H5close()"
   ]
  }
 ],
 "metadata": {
  "kernelspec": {
   "display_name": "R",
   "language": "R",
   "name": "ir"
  },
  "language_info": {
   "codemirror_mode": "r",
   "file_extension": ".r",
   "mimetype": "text/x-r-source",
   "name": "R",
   "pygments_lexer": "r",
   "version": "3.4.0"
  }
 },
 "nbformat": 4,
 "nbformat_minor": 2
}
