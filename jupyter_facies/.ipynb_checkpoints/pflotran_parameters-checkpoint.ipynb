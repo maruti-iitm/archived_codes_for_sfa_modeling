{
 "cells": [
  {
   "cell_type": "code",
   "execution_count": null,
   "metadata": {},
   "outputs": [],
   "source": [
    "##120 origin\n",
    "model_origin = c(594239.42,115982.57)\n",
    "angle = 35/180*pi\n",
    "\n",
    "west = 0\n",
    "east = 120\n",
    "south = 0\n",
    "north = 120\n",
    "bottom = 95\n",
    "top = 110\n",
    "\n",
    "nx = 120\n",
    "ny = 120\n",
    "nz = 30\n",
    "\n",
    "range_x = c(west,east)\n",
    "range_y = c(south,north)\n",
    "range_z = c(bottom,top)\n",
    "\n",
    "dx = rep((east-west)/nx,nx)\n",
    "dy = rep((north-south)/ny,ny)\n",
    "dz = rep((top-bottom)/nz,nz)\n",
    "\n",
    "x = cumsum(dx)-0.5*dx[1]+west\n",
    "y = cumsum(dy)-0.5*dy[1]+south\n",
    "z = cumsum(dz)-0.5*dz[1]+bottom\n",
    "\n",
    "\n"
   ]
  }
 ],
 "metadata": {
  "kernelspec": {
   "display_name": "R",
   "language": "R",
   "name": "ir"
  },
  "language_info": {
   "codemirror_mode": "r",
   "file_extension": ".r",
   "mimetype": "text/x-r-source",
   "name": "R",
   "pygments_lexer": "r",
   "version": "3.4.0"
  }
 },
 "nbformat": 4,
 "nbformat_minor": 2
}
