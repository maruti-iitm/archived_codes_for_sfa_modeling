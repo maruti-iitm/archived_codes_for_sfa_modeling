{
 "cells": [
  {
   "cell_type": "code",
   "execution_count": null,
   "metadata": {},
   "outputs": [],
   "source": [
    "rm(list=ls())\n",
    "args=(commandArgs(TRUE))\n",
    "source(\"codes/da_functions.R\")"
   ]
  },
  {
   "cell_type": "code",
   "execution_count": null,
   "metadata": {},
   "outputs": [],
   "source": [
    "t=proc.time()\n",
    "\n",
    "perm.log10.mean = log10(c(7.387e-9,4.724e-11,1.181e-12))\n",
    "perm.log10.sd = c(0.6,0.5,0.2)\n",
    "perm.log10.upper = c(-7.2,-9,-11.5555)\n",
    "perm.log10.lower = perm.log10.mean*2-perm.log10.upper"
   ]
  },
  {
   "cell_type": "code",
   "execution_count": null,
   "metadata": {},
   "outputs": [],
   "source": [
    "if(length(args)==0){\n",
    "    print(\"no arguments supplied, use default value\")\n",
    "    iter=1\n",
    "    alpha=4\n",
    "}else{\n",
    "    for(i in 1:length(args)){\n",
    "        eval(parse(text=args[[i]]))\n",
    "    }\n",
    "}\n",
    "print(paste(\"iter=\",iter))\n",
    "print(paste(\"alpha=\",alpha))\n",
    "load(\"results/obs_info.r\")\n",
    "obs.sd.ratio = 0.1"
   ]
  },
  {
   "cell_type": "code",
   "execution_count": null,
   "metadata": {},
   "outputs": [],
   "source": [
    "load(paste(\"results/state_vector.\",iter-1,sep=''))\n",
    "nfacies = 3\n",
    "nreaz =  nrow(state.vector)\n",
    "nnode =  (ncol(state.vector)-nfacies)/(floor(log2(nfacies)+1))\n",
    "\n",
    "##current simulation\n",
    "load(paste(\"results/simu_tracer_all_\",iter,\".r\",sep=''))\n",
    "simu.ensemble = c()\n",
    "for (ireaz in 1:nreaz)\n",
    "{\n",
    "    simu.temp = c()\n",
    "    for (iwell in da.wells)\n",
    "    {\n",
    "        simu.temp=c(simu.temp,\n",
    "            simu.tracer.all[[ireaz]][da.list[[iwell]],iwell])\n",
    "    }\n",
    "    simu.ensemble = rbind(simu.ensemble,simu.temp)\n",
    "\n",
    "}\n",
    "save(simu.ensemble,file=paste(\"results/simu_ensemble.\",iter,sep=''))"
   ]
  },
  {
   "cell_type": "code",
   "execution_count": null,
   "metadata": {},
   "outputs": [],
   "source": [
    "print(proc.time()-t)\n",
    "\n",
    "##observations\n",
    "obs.ensemble = array(NA,dim(simu.ensemble))\n",
    "obs.var = (obs.data*obs.sd.ratio)^2\n",
    "obs.var = obs.var*alpha\n",
    "obs.var[obs.var<1e-4] = 1e-4\n",
    "\n",
    "for (iobs in 1:length(obs.var))\n",
    "{\n",
    "    set.seed(iobs+789)\n",
    "    obs.ensemble[,iobs] = obs.data[iobs] + c(rnorm(nreaz,0,sqrt(obs.var[iobs])))\n",
    "}\n",
    "obs.ensemble[obs.ensemble>1] = 1\n",
    "obs.ensemble[obs.ensemble<0] = 0\n",
    "\n",
    "cov.simu = cov.parallel.10(simu.ensemble,simu.ensemble)\n",
    "inv.cov.simuADDobs = chol2inv(chol(cov.simu+diag(obs.var)))\n",
    "\n",
    "print(proc.time()-t)\n",
    "\n",
    "state.vector.all = kalman.parallel()\n",
    "state.vector[,1:nfacies] = state.vector.all[,1:nfacies]\n",
    "state.vector[,cells.to.update+nfacies] = state.vector.all[,cells.to.update+nfacies]\n",
    "state.vector[,cells.to.update+(nnode+nfacies)] = state.vector.all[,cells.to.update+(nnode+nfacies)]\n",
    "\n",
    "print(proc.time()-t)\n",
    "save(state.vector,file=paste(\"results/state_vector.\",iter,sep=\"\"))\n",
    "perm.vector = state.vector[,1:3]\n",
    "save(perm.vector,file=paste(\"results/perm_vector.\",iter,sep=\"\"))\n",
    "\n",
    "print(proc.time()-t)"
   ]
  }
 ],
 "metadata": {
  "kernelspec": {
   "display_name": "R",
   "language": "R",
   "name": "ir"
  },
  "language_info": {
   "codemirror_mode": "r",
   "file_extension": ".r",
   "mimetype": "text/x-r-source",
   "name": "R",
   "pygments_lexer": "r",
   "version": "3.4.0"
  }
 },
 "nbformat": 4,
 "nbformat_minor": 2
}
