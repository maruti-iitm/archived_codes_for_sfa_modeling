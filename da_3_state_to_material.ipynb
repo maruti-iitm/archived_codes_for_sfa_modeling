{
 "cells": [
  {
   "cell_type": "code",
   "execution_count": null,
   "metadata": {},
   "outputs": [],
   "source": [
    "rm(list=ls())\n",
    "args=(commandArgs(TRUE))\n",
    "library(rhdf5)\n",
    "source(\"codes/ifrc_120m_3d.R\")"
   ]
  },
  {
   "cell_type": "code",
   "execution_count": null,
   "metadata": {},
   "outputs": [],
   "source": [
    "if(length(args)==0){\n",
    "    print(\"no arguments supplied, use default value\")\n",
    "    iter=0\n",
    "    nreaz=300\n",
    "    nfacies=3        \n",
    "}else{\n",
    "    for(i in 1:length(args)){\n",
    "        eval(parse(text=args[[i]]))\n",
    "    }\n",
    "}\n",
    "load(paste(\"results/state_vector.\",iter,sep=\"\"))"
   ]
  },
  {
   "cell_type": "code",
   "execution_count": null,
   "metadata": {},
   "outputs": [],
   "source": [
    "ncell = nx*ny*nz\n",
    "levelset.1 = state.vector[,1:ncell+nfacies]\n",
    "levelset.2 = state.vector[,1:ncell+(nfacies+ncell)]\n",
    "\n",
    "indicator.matrix = array(NA,c(nreaz,ncell))\n",
    "indicator.matrix[which(levelset.1 > 0)] = 1\n",
    "indicator.matrix[which(levelset.1 <= 0 & levelset.2 > 0)] = 2\n",
    "indicator.matrix[which(levelset.1 <= 0 & levelset.2 <= 0)] = 3"
   ]
  },
  {
   "cell_type": "code",
   "execution_count": null,
   "metadata": {},
   "outputs": [],
   "source": [
    "facies.prob = array(NA,c(ncell,nfacies))\n",
    "for (ifacies in 1:nfacies)\n",
    "    {\n",
    "        temp.matrix = indicator.matrix\n",
    "        temp.matrix[indicator.matrix!=ifacies] = 0\n",
    "        facies.prob[,ifacies] = colMeans(temp.matrix)/ifacies\n",
    "    }\n",
    "save(facies.prob,file=paste(\"results/facies_prob_\",iter,\".r\",sep=\"\"))"
   ]
  },
  {
   "cell_type": "code",
   "execution_count": null,
   "metadata": {},
   "outputs": [],
   "source": [
    "fname = \"pflotran_mc/mc_material.h5\"\n",
    "if(file.exists(fname)) {file.remove(fname)}\n",
    "h5createFile(fname)\n",
    "h5createGroup(fname,\"Materials\")\n",
    "\n",
    "cell.ids = 1:(nx*ny*nz)\n",
    "h5write(cell.ids,fname,\"Materials/Cell Ids\",level=0)"
   ]
  },
  {
   "cell_type": "code",
   "execution_count": null,
   "metadata": {},
   "outputs": [],
   "source": [
    "for (ireaz in 1:nreaz)\n",
    "{\n",
    "    print(ireaz)\n",
    "    material.ids = rep(0,nx*ny*nz)\n",
    "    material.ids[which(indicator.matrix[ireaz,]==1)] = 1\n",
    "    material.ids[which(indicator.matrix[ireaz,]==2)] = 9\n",
    "    material.ids[which(indicator.matrix[ireaz,]==3)] = 4\n",
    "    h5write(material.ids,fname,paste(\"Materials/Material Ids\",ireaz,sep=\"\"),level=0)    \n",
    "}"
   ]
  },
  {
   "cell_type": "code",
   "execution_count": null,
   "metadata": {},
   "outputs": [],
   "source": [
    "for (ifacies in 1:nfacies)\n",
    "{\n",
    "    fname = paste(\"pflotran_mc/unit\",ifacies,\"_perm.h5\",sep=\"\")\n",
    "    if(file.exists(fname)) {file.remove(fname)}\n",
    "    h5createFile(fname)\n",
    "    cell.ids = 1:(nx*ny*nz)\n",
    "    h5write(cell.ids,fname,\"Cell Ids\",level=0)\n",
    "\n",
    "    for (ireaz in 1:nreaz)\n",
    "    {\n",
    "        print(ireaz)\n",
    "        perm.ireaz = rep(10^(state.vector[ireaz,ifacies]),nx*ny*nz)\n",
    "        h5write(perm.ireaz,fname,paste(\"unit\",ifacies,\"_perm\",ireaz,sep=\"\"),level=0)                    \n",
    "    }\n",
    "}\n",
    "H5close()"
   ]
  }
 ],
 "metadata": {
  "kernelspec": {
   "display_name": "R",
   "language": "R",
   "name": "ir"
  },
  "language_info": {
   "codemirror_mode": "r",
   "file_extension": ".r",
   "mimetype": "text/x-r-source",
   "name": "R",
   "pygments_lexer": "r",
   "version": "3.4.0"
  }
 },
 "nbformat": 4,
 "nbformat_minor": 2
}
